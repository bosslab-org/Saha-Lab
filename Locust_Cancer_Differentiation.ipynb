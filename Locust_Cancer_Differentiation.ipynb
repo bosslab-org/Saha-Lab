{
 "cells": [
  {
   "cell_type": "code",
   "execution_count": 1,
   "id": "97edfd28-d7f8-4d44-aa8f-7191fa75f5af",
   "metadata": {},
   "outputs": [
    {
     "name": "stdout",
     "output_type": "stream",
     "text": [
      "CPU times: user 8.04 s, sys: 2.24 s, total: 10.3 s\n",
      "Wall time: 21.5 s\n"
     ]
    }
   ],
   "source": [
    "%%time\n",
    "import scipy.io as sio\n",
    "import numpy as np\n",
    "import pandas as pd\n",
    "from sklearn import preprocessing\n",
    "from sklearn.model_selection import train_test_split\n",
    "from keras.models import Sequential\n",
    "from keras.layers import Dense\n",
    "from scikeras.wrappers import KerasClassifier\n",
    "from keras.utils import np_utils\n",
    "from sklearn.model_selection import cross_val_score\n",
    "from sklearn.model_selection import KFold\n",
    "from sklearn.preprocessing import LabelEncoder\n",
    "from sklearn.pipeline import Pipeline\n",
    "from sklearn.metrics import confusion_matrix\n",
    "import seaborn as sns"
   ]
  },
  {
   "cell_type": "code",
   "execution_count": 2,
   "id": "ddd46d69-5b87-4241-9243-8af4e8720f27",
   "metadata": {},
   "outputs": [],
   "source": [
    "mat_contents = sio.loadmat('/Users/XanderFarnum/Desktop/Cell_Culture_RMS_Master.mat')\n",
    "# Date = mat_contents['Date']\n",
    "\n",
    "Ca922_data = np.transpose(np.mean(mat_contents['Ca922_RMS_data_filt'],axis=(1,2)))\n",
    "HaCat_data = np.transpose(np.mean(mat_contents['HaCat_RMS_data_filt'],axis=(1,2)))\n",
    "HSC3_data = np.transpose(np.mean(mat_contents['HSC3_RMS_data_filt'],axis=(1,2)))\n",
    "Media_data = np.transpose(np.mean(mat_contents['Media_RMS_data_filt'],axis=(1,2)))\n",
    "SAS_data = np.transpose(np.mean(mat_contents['SAS_RMS_data_filt'],axis=(1,2)))\n",
    "\n",
    "Ca922_class = np.ones((np.size(Ca922_data, axis=0),1))*0\n",
    "HaCat_class = np.ones((np.size(HaCat_data, axis=0),1))*1\n",
    "HSC3_class = np.ones((np.size(HSC3_data, axis=0),1))*2\n",
    "Media_class = np.ones((np.size(Media_data, axis=0),1))*3\n",
    "SAS_class = np.ones((np.size(SAS_data, axis=0),1))*4"
   ]
  },
  {
   "cell_type": "code",
   "execution_count": 3,
   "id": "222f50af-011e-4f82-b5a2-3886e2859ad4",
   "metadata": {},
   "outputs": [],
   "source": [
    "# Use for binary (2 class) classification\n",
    "\n",
    "binclass_data = np.concatenate((Ca922_data,HaCat_data),axis=0)\n",
    "binclass_stimuli = np.concatenate((Ca922_class,HaCat_class),axis=0)\n",
    "X_train, X_test, y_train, y_test = train_test_split(binclass_data,binclass_stimuli,test_size=0.2,random_state=0)"
   ]
  },
  {
   "cell_type": "code",
   "execution_count": 4,
   "id": "8249b431-5f61-4bcd-b15f-f7218685ddb4",
   "metadata": {
    "tags": []
   },
   "outputs": [],
   "source": [
    "# Use for multi-class (>2 classes) classification\n",
    "\n",
    "multiclass_data = np.concatenate((Ca922_data,HaCat_data,HSC3_data,Media_data,SAS_data),axis=0)\n",
    "multiclass_stimuli = np.concatenate((Ca922_class,HaCat_class,HSC3_class,Media_class,SAS_class),axis=0)\n",
    "X_train, X_test, y_train, y_test = train_test_split(multiclass_data,multiclass_stimuli,test_size=0.2,random_state=0)"
   ]
  },
  {
   "cell_type": "code",
   "execution_count": 5,
   "id": "5a5e865c-82f6-4c76-a53c-e553d687fc4f",
   "metadata": {
    "tags": []
   },
   "outputs": [],
   "source": [
    "# Format and preprocess data\n",
    "\n",
    "y_train = y_train.astype(int)\n",
    "y_test = y_test.astype(int)\n",
    "\n",
    "X_train_norm = preprocessing.scale(X_train)\n",
    "X_test_norm = preprocessing.scale(X_test)\n",
    "\n",
    "# Construct one-hot target vector representations\n",
    "\n",
    "y_train_onehot = np.zeros((y_train.size, y_train.max()+1))\n",
    "y_train_onehot[np.arange(y_train.size),np.transpose(y_train)] = 1\n",
    "\n",
    "y_test_onehot = np.zeros((y_test.size, y_test.max()+1))\n",
    "y_test_onehot[np.arange(y_test.size),np.transpose(y_test)] = 1"
   ]
  },
  {
   "cell_type": "markdown",
   "id": "33960dbf-45e3-46de-96fd-2549c3146ce7",
   "metadata": {},
   "source": [
    "## Binary Classification"
   ]
  },
  {
   "cell_type": "code",
   "execution_count": null,
   "id": "a9f343f8-c300-4c18-8ad7-e2cfe3bc4019",
   "metadata": {
    "tags": []
   },
   "outputs": [],
   "source": [
    "model = Sequential()\n",
    "model.add(Dense(32,activation='relu', input_dim=np.size(X_train,axis=1))) # First hidden layer\n",
    "model.add(Dense(16,activation='relu')) # Second hidden layer\n",
    "model.add(Dense(1,activation='sigmoid')) # Sigmoid output layer\n",
    "model.compile(optimizer='adam',loss='binary_crossentropy',metrics=['accuracy']) # Compile model\n",
    "model.fit(X_train,y_train, epochs=10) # Train model\n",
    "          \n",
    "scores = model.evaluate(X_train,y_train)\n",
    "print(\"Training Accuracy: \", (scores[1]*100))\n",
    "          \n",
    "scores = model.evaluate(X_test,y_test)\n",
    "print(\"Testing Accuracy: \", (scores[1]*100))\n",
    "\n",
    "predict_x=model.predict(X_test) \n",
    "y_pred = np.round(predict_x).astype(int)\n",
    "\n",
    "c_matrix = confusion_matrix(y_test, y_pred)\n",
    "ax = sns.heatmap(c_matrix, annot=True,\n",
    "                xticklabels=['Ca922','HaCat'],\n",
    "                yticklabels=['Ca922','HaCat'],\n",
    "                cbar=False, cmap='Blues')\n",
    "ax.set_xlabel(\"Prediction\")\n",
    "ax.set_ylabel(\"Actual\")"
   ]
  },
  {
   "cell_type": "markdown",
   "id": "938f7a49-9942-4247-9fee-95fbba7efd6d",
   "metadata": {},
   "source": [
    "## Multi-class Classification"
   ]
  },
  {
   "cell_type": "code",
   "execution_count": 6,
   "id": "eb728d37-74e7-4de7-ac40-0da9446b8d5a",
   "metadata": {
    "tags": []
   },
   "outputs": [
    {
     "name": "stderr",
     "output_type": "stream",
     "text": [
      "2022-01-24 17:19:22.531181: I tensorflow/core/platform/cpu_feature_guard.cc:151] This TensorFlow binary is optimized with oneAPI Deep Neural Network Library (oneDNN) to use the following CPU instructions in performance-critical operations:  AVX2 FMA\n",
      "To enable them in other operations, rebuild TensorFlow with the appropriate compiler flags.\n"
     ]
    },
    {
     "name": "stdout",
     "output_type": "stream",
     "text": [
      "Epoch 1/30\n",
      "25/25 [==============================] - 1s 8ms/step - loss: 4.7344 - accuracy: 0.2075\n",
      "Epoch 2/30\n",
      "25/25 [==============================] - 0s 6ms/step - loss: 1.7286 - accuracy: 0.2237\n",
      "Epoch 3/30\n",
      "25/25 [==============================] - 0s 3ms/step - loss: 1.4814 - accuracy: 0.2825\n",
      "Epoch 4/30\n",
      "25/25 [==============================] - 0s 3ms/step - loss: 1.3854 - accuracy: 0.3988\n",
      "Epoch 5/30\n",
      "25/25 [==============================] - 0s 4ms/step - loss: 1.2978 - accuracy: 0.4625\n",
      "Epoch 6/30\n",
      "25/25 [==============================] - 0s 3ms/step - loss: 1.1910 - accuracy: 0.5000\n",
      "Epoch 7/30\n",
      "25/25 [==============================] - 0s 2ms/step - loss: 1.0965 - accuracy: 0.5412\n",
      "Epoch 8/30\n",
      "25/25 [==============================] - 0s 3ms/step - loss: 1.0127 - accuracy: 0.6413\n",
      "Epoch 9/30\n",
      "25/25 [==============================] - 0s 4ms/step - loss: 0.9284 - accuracy: 0.6925\n",
      "Epoch 10/30\n",
      "25/25 [==============================] - 0s 3ms/step - loss: 0.8903 - accuracy: 0.7088\n",
      "Epoch 11/30\n",
      "25/25 [==============================] - 0s 3ms/step - loss: 0.7928 - accuracy: 0.7713\n",
      "Epoch 12/30\n",
      "25/25 [==============================] - 0s 3ms/step - loss: 0.7224 - accuracy: 0.8075\n",
      "Epoch 13/30\n",
      "25/25 [==============================] - 0s 2ms/step - loss: 0.6688 - accuracy: 0.8450\n",
      "Epoch 14/30\n",
      "25/25 [==============================] - 0s 3ms/step - loss: 0.6257 - accuracy: 0.8562\n",
      "Epoch 15/30\n",
      "25/25 [==============================] - 0s 3ms/step - loss: 0.5709 - accuracy: 0.8875\n",
      "Epoch 16/30\n",
      "25/25 [==============================] - 0s 3ms/step - loss: 0.5358 - accuracy: 0.8913\n",
      "Epoch 17/30\n",
      "25/25 [==============================] - 0s 3ms/step - loss: 0.4881 - accuracy: 0.9175\n",
      "Epoch 18/30\n",
      "25/25 [==============================] - 0s 2ms/step - loss: 0.4636 - accuracy: 0.9087\n",
      "Epoch 19/30\n",
      "25/25 [==============================] - 0s 3ms/step - loss: 0.4340 - accuracy: 0.9287\n",
      "Epoch 20/30\n",
      "25/25 [==============================] - 0s 3ms/step - loss: 0.4172 - accuracy: 0.8963\n",
      "Epoch 21/30\n",
      "25/25 [==============================] - 0s 2ms/step - loss: 0.3422 - accuracy: 0.9500\n",
      "Epoch 22/30\n",
      "25/25 [==============================] - 0s 3ms/step - loss: 0.3272 - accuracy: 0.9500\n",
      "Epoch 23/30\n",
      "25/25 [==============================] - 0s 2ms/step - loss: 0.3112 - accuracy: 0.9438\n",
      "Epoch 24/30\n",
      "25/25 [==============================] - 0s 2ms/step - loss: 0.2883 - accuracy: 0.9525\n",
      "Epoch 25/30\n",
      "25/25 [==============================] - 0s 2ms/step - loss: 0.2646 - accuracy: 0.9550\n",
      "Epoch 26/30\n",
      "25/25 [==============================] - 0s 3ms/step - loss: 0.2388 - accuracy: 0.9650\n",
      "Epoch 27/30\n",
      "25/25 [==============================] - 0s 3ms/step - loss: 0.2235 - accuracy: 0.9625\n",
      "Epoch 28/30\n",
      "25/25 [==============================] - 0s 3ms/step - loss: 0.2015 - accuracy: 0.9787\n",
      "Epoch 29/30\n",
      "25/25 [==============================] - 0s 2ms/step - loss: 0.1836 - accuracy: 0.9862\n",
      "Epoch 30/30\n",
      "25/25 [==============================] - 0s 3ms/step - loss: 0.1724 - accuracy: 0.9825\n",
      "25/25 [==============================] - 0s 2ms/step - loss: 0.1735 - accuracy: 0.9800\n",
      "Training Accuracy:  98.00000190734863\n",
      "7/7 [==============================] - 0s 2ms/step - loss: 0.1665 - accuracy: 0.9800\n",
      "Testing Accuracy:  98.00000190734863\n"
     ]
    },
    {
     "data": {
      "text/plain": [
       "Text(33.0, 0.5, 'Actual')"
      ]
     },
     "execution_count": 6,
     "metadata": {},
     "output_type": "execute_result"
    },
    {
     "data": {
      "image/png": "[encoded data removed]",
      "text/plain": [
       "<Figure size 432x288 with 1 Axes>"
      ]
     },
     "metadata": {
      "needs_background": "light"
     },
     "output_type": "display_data"
    }
   ],
   "source": [
    "model = Sequential()\n",
    "model.add(Dense(40,activation='relu', input_dim=np.size(X_train,axis=1))) # First hidden layer\n",
    "model.add(Dense(16,activation='relu')) # Second hidden layer\n",
    "model.add(Dense(5,activation='softmax')) # Softmax output layer\n",
    "model.compile(optimizer='adam',loss='categorical_crossentropy',metrics=['accuracy']) # Compile model\n",
    "model.fit(X_train,y_train_onehot, epochs=30) # Train model\n",
    "          \n",
    "scores = model.evaluate(X_train,y_train_onehot)\n",
    "print(\"Training Accuracy: \", (scores[1]*100))\n",
    "          \n",
    "scores = model.evaluate(X_test,y_test_onehot)\n",
    "print(\"Testing Accuracy: \", (scores[1]*100))\n",
    "\n",
    "predict_x=model.predict(X_test) \n",
    "y_pred = np.argmax(predict_x,axis=1,keepdims=True)\n",
    "\n",
    "c_matrix = confusion_matrix(y_test, y_pred)\n",
    "ax = sns.heatmap(c_matrix, annot=True,\n",
    "                xticklabels=['Ca922','HaCat','HSC3','Media','SAS'],\n",
    "                yticklabels=['Ca922','HaCat','HSC3','Media','SAS'],\n",
    "                cbar=False, cmap='Blues')\n",
    "ax.set_xlabel(\"Prediction\")\n",
    "ax.set_ylabel(\"Actual\")"
   ]
  },
  {
   "cell_type": "markdown",
   "id": "97d58bdd-a56a-4ff8-af2b-5d4af0c883db",
   "metadata": {},
   "source": [
    "## Multi-class Classification with K-fold Cross Validation"
   ]
  },
  {
   "cell_type": "code",
   "execution_count": null,
   "id": "82868215-3dd4-45fb-8b72-9f66bcff5051",
   "metadata": {},
   "outputs": [],
   "source": [
    "def baseline_model():\n",
    "    model = Sequential()\n",
    "    model.add(Dense(32, activation='relu', input_dim=np.size(X_train,axis=1))) # First hidden layer\n",
    "    model.add(Dense(16,activation='relu')) # Second hidden layer\n",
    "    model.add(Dense(5, activation='softmax')) #Softmax output layer\n",
    "    model.compile(loss='categorical_crossentropy', optimizer='adam', metrics=['accuracy'])\n",
    "    return model\n",
    "\n",
    "estimator = KerasClassifier(model=baseline_model, epochs=30)\n",
    "kfold = KFold(n_splits=2, shuffle=True)\n",
    "results = cross_val_score(estimator, X_train, y_train_onehot, cv=kfold)\n",
    "results = cross_val_score(estimator, X_train, y_train_onehot)\n",
    "print(\"Baseline: %.2f%% (%.2f%%)\" % (results.mean()*100, results.std()*100))"
   ]
  }
 ],
 "metadata": {
  "kernelspec": {
   "display_name": "Python 3 (ipykernel)",
   "language": "python",
   "name": "python3"
  },
  "language_info": {
   "codemirror_mode": {
    "name": "ipython",
    "version": 3
   },
   "file_extension": ".py",
   "mimetype": "text/x-python",
   "name": "python",
   "nbconvert_exporter": "python",
   "pygments_lexer": "ipython3",
   "version": "3.10.2"
  }
 },
 "nbformat": 4,
 "nbformat_minor": 5
}
